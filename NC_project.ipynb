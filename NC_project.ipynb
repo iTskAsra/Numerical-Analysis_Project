{
 "cells": [
  {
   "cell_type": "markdown",
   "metadata": {},
   "source": [
    "<div align=center>\n",
    "<font size=6>\n",
    "<font/>\n",
    "<br>\n",
    "<font color=#0dfc00>\n",
    "Sharif University of Technology\n",
    "</font>\n",
    "<p></p>\n",
    "<font color=#8ce300>\n",
    "Numerical Calculations\n",
    "</font>\n",
    "<p></p>\n",
    "<font color=#f2cf00>\n",
    "Dr. Fatemeh Baharifard\n",
    "</font>\n",
    "<br/>\n",
    "<br/>\n",
    "<font color=ffcc00>\n",
    "Spring 2022\n",
    "</font>\n",
    "</div>\n",
    "\n",
    "<hr/>\n",
    "\t\t<div align=center>\n",
    "\t\t    <font color=ff9c00 size=6>\n",
    "\t\t\t    <br />\n",
    "Final Project\n",
    "            \t<br/>\n",
    "\t\t\t</font>\n",
    "    <br/>\n",
    "  <font size=4, color=#CC6600>\n",
    "    Authors:\n",
    "    <br>\n",
    "    MohammadMahdi Abootorabi\n",
    "    <br>\n",
    "    Mohammadreza Daviran\n",
    "    <br>\n",
    "    Kasra Amani\n",
    "    <br>\n",
    "    Bahar Asadi\n",
    "\n",
    "  </font>\n",
    "    <br/>\n",
    "<font size=5, color=red>\n",
    "    <br/><br/>\n",
    "Deadline: Tir 22nd\n",
    "</font>\n",
    "                <br/>\n",
    "    </div>"
   ]
  },
  {
   "cell_type": "markdown",
   "metadata": {},
   "source": [
    "This is the **Final Project of Numerical Calculations**, Spring-2022.\n",
    "\n",
    "\n",
    "In this project you need to complete this notebook with full regard to the demands of the questions.\n",
    "\n",
    "\n",
    "There are 8 Questions each containing a Theoretical and a Practical part. These 8 questions have 330 points in total which equals 3.3 out of 21.3 from your final grade.\n",
    "\n",
    "\n",
    "Note that this project has an additional score which does not count on the formal 20 score grading. By solving all the questions you may gain 0.3 additional score in the final grading. \n",
    "\n",
    "\n",
    "*Good Luck!*"
   ]
  },
  {
   "cell_type": "markdown",
   "metadata": {
    "id": "O3A1ZidagV7w"
   },
   "source": [
    "# Q1:\n",
    "*Author: MohammadMahdi Abootorabi*\n",
    "\n",
    "**30 Points**\n",
    "\n",
    "---\n",
    "**Theoretical:**\n",
    "<br>Let $a_i$ ($1 \\le i \\le n$) be a positive number. Prove that\n",
    "\n",
    "a): $e(\\sum_{i}^{n}{a_i}) \\le \\sum_{i}^{n}{e(a_i)} $\n",
    "\n",
    "b): $\\delta(\\sum_{i}^{n}{a_i}) \\le max\\{\\delta(a_1),...,\\delta(a_n)\\}$\n"
   ]
  },
  {
   "cell_type": "markdown",
   "metadata": {
    "id": "TqMcEivZgX9t"
   },
   "source": [
    "Write your answers here:"
   ]
  },
  {
   "cell_type": "markdown",
   "metadata": {
    "id": "8PnFBzwSuKIL"
   },
   "source": [
    "\n",
    " **Practical**:\n",
    " <br>Below you are presented with the Num class; complete the class code in a way so that the class has the following properties:\n",
    " <br>a) The value of the Number has no more than 2 decimal places.\n",
    " <br>b) The relative error and absolute error of the Number are correct.\n",
    " <br>c) All arithmetic operations work correctly with the Number class and result in another Number with a correct upper bound on the errors (implementation must account for the error propagation on +, -, *, /)\n",
    " <br>Example:\n",
    " ```\n",
    "  a = Num(1.23456)\n",
    "  b = Num(5.67891)\n",
    "  c = a + b\n",
    "  print(a.value)\n",
    "  print(a.abs_err)\n",
    "  print(a.rel_err)\n",
    "  print(c.value)\n",
    " ```\n",
    " > 1.23 <br>\n",
    " > 0.00456 <br>\n",
    " > 0.00369 <br>\n",
    " > 6.9 <br>"
   ]
  },
  {
   "cell_type": "code",
   "execution_count": 2,
   "metadata": {
    "id": "6MVfzKxVjW29"
   },
   "outputs": [
    {
     "ename": "TypeError",
     "evalue": "unsupported operand type(s) for +: 'Num' and 'Num'",
     "output_type": "error",
     "traceback": [
      "\u001b[1;31m---------------------------------------------------------------------------\u001b[0m",
      "\u001b[1;31mTypeError\u001b[0m                                 Traceback (most recent call last)",
      "\u001b[1;32mc:\\Users\\gamer\\VSCode\\NA\\Numerical-Analysis_Project\\NC_project.ipynb Cell 6'\u001b[0m in \u001b[0;36m<cell line: 14>\u001b[1;34m()\u001b[0m\n\u001b[0;32m     <a href='vscode-notebook-cell:/c%3A/Users/gamer/VSCode/NA/Numerical-Analysis_Project/NC_project.ipynb#ch0000005?line=11'>12</a>\u001b[0m a \u001b[39m=\u001b[39m Num(\u001b[39m1.23456\u001b[39m)\n\u001b[0;32m     <a href='vscode-notebook-cell:/c%3A/Users/gamer/VSCode/NA/Numerical-Analysis_Project/NC_project.ipynb#ch0000005?line=12'>13</a>\u001b[0m b \u001b[39m=\u001b[39m Num(\u001b[39m5.67891\u001b[39m)\n\u001b[1;32m---> <a href='vscode-notebook-cell:/c%3A/Users/gamer/VSCode/NA/Numerical-Analysis_Project/NC_project.ipynb#ch0000005?line=13'>14</a>\u001b[0m c \u001b[39m=\u001b[39m a \u001b[39m+\u001b[39;49m b\n\u001b[0;32m     <a href='vscode-notebook-cell:/c%3A/Users/gamer/VSCode/NA/Numerical-Analysis_Project/NC_project.ipynb#ch0000005?line=14'>15</a>\u001b[0m \u001b[39mprint\u001b[39m(a\u001b[39m.\u001b[39mvalue)\n\u001b[0;32m     <a href='vscode-notebook-cell:/c%3A/Users/gamer/VSCode/NA/Numerical-Analysis_Project/NC_project.ipynb#ch0000005?line=15'>16</a>\u001b[0m \u001b[39mprint\u001b[39m(a\u001b[39m.\u001b[39mabs_err)\n",
      "\u001b[1;31mTypeError\u001b[0m: unsupported operand type(s) for +: 'Num' and 'Num'"
     ]
    }
   ],
   "source": [
    "import math\n",
    "class Num():\n",
    "    ''' \n",
    "      complete the class so that there's truncation when \n",
    "      creating a Number and currect error propagation \n",
    "      when using operations on Numbers\n",
    "      Hint: you must use operator overloading\n",
    "    '''\n",
    "    def __init__(self, val):\n",
    "        pass\n",
    "\n",
    "a = Num(1.23456)\n",
    "b = Num(5.67891)\n",
    "c = a + b\n",
    "print(a.value)\n",
    "print(a.abs_err)\n",
    "print(a.rel_err)\n",
    "print(c.value)"
   ]
  },
  {
   "cell_type": "markdown",
   "metadata": {
    "id": "F_Nf3o2Cg37z"
   },
   "source": [
    "# Q2:\n",
    "*Author: MohammadMahdi Abootorabi*\n",
    "\n",
    "**25 Points**\n",
    "\n",
    "---\n"
   ]
  },
  {
   "cell_type": "markdown",
   "metadata": {
    "id": "cWp_e9Zau6m-"
   },
   "source": [
    "\n",
    "\n",
    " ***Practical***:<br>\n",
    " Write a program that implements the Generalized Newton–Raphson Method for the two variable version. Take $F(x,y)$ and $G(x,y)$ as input. Assume that there always is a solution for the inputs. Output must be an approximate intersection point.<br>\n",
    "  <br>Example input (first one is $F$, second one is $G$):<br>\n",
    "     ```\n",
    "x * x + y * y - 4\n",
    "x * y -  1\n",
    "     ```\n",
    "     <br>\n",
    "     <br>\n",
    "\n",
    "**Hint: see last slides of lecture two for more information.**"
   ]
  },
  {
   "cell_type": "code",
   "execution_count": null,
   "metadata": {},
   "outputs": [],
   "source": []
  },
  {
   "cell_type": "markdown",
   "metadata": {
    "id": "F_Nf3o2Cg37z"
   },
   "source": [
    "# Q3:\n",
    "*Author: MohammadMahdi Abootorabi*\n",
    "\n",
    "**35 Points**\n",
    "\n",
    "---\n"
   ]
  },
  {
   "cell_type": "markdown",
   "metadata": {
    "id": "cWp_e9Zau6m-"
   },
   "source": [
    "\n",
    "\n",
    " ***Practical***:<br>\n",
    " Write a program that takes a real **polynomial** string as an input and tries to calculates a root for it. We use different methods to calculate it. <br>\n",
    "  a) Implement the Bisection method to find a root (iterate until $|f(x_n)| \\le 10^{-5}$ or 1000 steps).<br>\n",
    "  b) Implement the Secant method to find a root (iterate until $|x_n - x_{n-1}| \\le 10^{-5}$ or 1000 steps).<br>\n",
    "  c) Implement the Newton-Raphson method to find a root (iterate until $|f(x)| \\le 10^{-5}$ or 1000 steps).<br>\n",
    " You must implement the Horner method for evaluation of the polynomials (both $f$ and $f'$).<br>\n",
    "\n",
    " **input format**:<br>\n",
    " $a_nx$^$(n)$ $\\pm$ $a_{n-1}x$^$(n-1)$ $\\pm$ ... $\\pm$ $a_0$<br>\n",
    " example: 5x^4 - 2x^2 + 1x^1 - 8\n",
    " \n",
    " **make sure to parse the input correctly. Check convergence conditions in methods that need it.**  "
   ]
  },
  {
   "cell_type": "code",
   "execution_count": null,
   "metadata": {},
   "outputs": [],
   "source": []
  },
  {
   "cell_type": "markdown",
   "metadata": {},
   "source": [
    "# Q4:\n",
    "\n",
    "*Author: Kasra Amani*\n",
    "\n",
    "**35 Points**\n",
    "\n",
    "---\n",
    "\n",
    "\n",
    "**Theoretical:**<br>\n",
    "The modified simpson's method was introduced in the 4th chapter of the course. Briefly explain in what ways this method is superior to its regular siblings and also, what are the downsides?\n"
   ]
  },
  {
   "cell_type": "markdown",
   "metadata": {},
   "source": [
    "**Answer goes here**"
   ]
  },
  {
   "cell_type": "markdown",
   "metadata": {},
   "source": [
    "**Practical:**\n",
    "## A\n",
    "You might already be familiar with the scipy library. One of the many useful tools in this package is scipy.integrate.\n",
    "Using the **quad** method which takes a **general function** as its first arguement, calculate the integrations given below (studying the scipy documentation is strongly recommended).\n",
    "$$ \\int_{-1}^{1} e^x cos(x) \\,dx$$\n",
    "$$ \\int_{1}^{3} x^6+x^4-x^2+sin(2x) \\,dx$$\n",
    "$$ \\int_{-1/2}^{1/2} \\frac{3x^2}{e^x-arcsin(x)} \\,dx$$\n",
    "## B\n",
    "Implement the Gauss-Legendre method with decent accuracy from the ground up (no scipy modules are allowed). Your implementation must take a python function as an input arguement and also the interval boundaries and return the integration result. It is guaranteed that the input boundary is in the domain of that function and your implementation does not need to account for such errors.\n",
    "Use this code of yours on the very same functions introduced in section A and compare the results with what you got from the scipy integration module.\n",
    "Note that your implementation might be tested with other integrals."
   ]
  },
  {
   "cell_type": "code",
   "execution_count": null,
   "metadata": {},
   "outputs": [],
   "source": [
    "import numpy as np\n",
    "from scipy import integrate\n",
    "\n",
    "#A\n",
    "#your code goes here"
   ]
  },
  {
   "cell_type": "code",
   "execution_count": null,
   "metadata": {},
   "outputs": [],
   "source": [
    "#B\n",
    "#your code goes here"
   ]
  },
  {
   "cell_type": "markdown",
   "metadata": {},
   "source": [
    "# Q5:\n",
    "\n",
    "*Author: Kasra Amani*\n",
    "\n",
    "**35 Points**\n",
    "\n",
    "---\n",
    "\n",
    "\n",
    "**Theoretical:**<br>\n",
    "Explain in a paragraph or two, what are the embeded Runge-Kutta methods? How do they improve upon the initial RK algorithm and what are the possible downsides?\n"
   ]
  },
  {
   "cell_type": "markdown",
   "metadata": {},
   "source": [
    "**Answer goes here**"
   ]
  },
  {
   "cell_type": "markdown",
   "metadata": {},
   "source": [
    "**Practical:**\n",
    "Given a 2nd order linear differential equation of following form\n",
    " $$y^{''}(x) + ay^{'}(\\alpha_0 x + \\alpha_1) + by(\\beta_0 x + \\beta_1) = c$$\n",
    " , $x_0$ as initial point, $h$ as interval length, $y^{'}(x_0)$ and $y(x_0)$, compute $y(x_0 + h)$ using the Runge-Kutta-Fehlberg method (aka RKF45).\n",
    "\n",
    " All inputs are given in console and the equation parameters are given in the following format:\n",
    " ```\n",
    " a alpha0 alpha1 b beta0 beta1 c\n",
    " ```\n",
    " Note that your code will be manually checked to see if you have implemented the algorithm correctly or not. For further information on the RKF45 read [this article](https://maths.cnam.fr/IMG/pdf/RungeKuttaFehlbergProof.pdf)."
   ]
  },
  {
   "cell_type": "code",
   "execution_count": null,
   "metadata": {},
   "outputs": [],
   "source": [
    "#your code goes here"
   ]
  },
  {
   "cell_type": "markdown",
   "metadata": {},
   "source": [
    "**Answer goes here**"
   ]
  },
  {
   "cell_type": "markdown",
   "metadata": {},
   "source": [
    "# Q6:\n",
    "\n",
    "*Author: Mohammadreza Daviran*\n",
    "\n",
    "**35 Points**\n",
    "\n",
    "---\n",
    "\n",
    "\n",
    "**Theoretical:**\n",
    "<p>There are some other applications of numerical analysis which we haven't discussed in the course, but are widely used in practice. One of them is function optimization (minimization & maximization).\n",
    "<br>\n",
    "In general, in this question, we examine optimization problems for two different types of functions, namely convex and non-convex functions. Finding the root and minimizing or maximizing these two types of functions are done differently, which we will learn more about later on.\n",
    "<br>\n",
    "There are generally two ways to check the convexity of a function:\n",
    "<ul>\n",
    "<li>\n",
    "Draw the function's diagram;\n",
    "</li>\n",
    "<li>\n",
    "Perform convex optimization with two starting positions and obtain the different minima.\n",
    "</li>\n",
    "</ul>\n",
    "\n",
    "Explain these two methods and discuss how they can be used to detect convexity of functions.\n",
    "</p>\n"
   ]
  },
  {
   "cell_type": "markdown",
   "metadata": {},
   "source": [
    "Write your answers here:"
   ]
  },
  {
   "cell_type": "markdown",
   "metadata": {},
   "source": [
    "\n",
    " **Practical**:\n",
    "For the following functions, you are required to determine convexity using the two convexity methods mentioned above.\n",
    "\n",
    "1) $sin(x) - x^2$ <br>\n",
    "2) $sin(x) + cos(x)$<br>\n",
    "3) $x^4 + x^3 + x + 2$<br>\n",
    "4) $x^2 - x^4 + 2$\n",
    "\n"
   ]
  },
  {
   "cell_type": "code",
   "execution_count": null,
   "metadata": {},
   "outputs": [],
   "source": [
    "# Check if the functions above are convex or not by plotting them.\n",
    "import matplotlib.pyplot as plt\n",
    "import numpy as np\n",
    "import math\n",
    "import scipy"
   ]
  },
  {
   "cell_type": "code",
   "execution_count": null,
   "metadata": {},
   "outputs": [],
   "source": [
    "# Check if the functions above are convex or not by using convex optimization.\n",
    "from scipy.optimize import minimize "
   ]
  },
  {
   "cell_type": "markdown",
   "metadata": {},
   "source": [
    "<ul>\n",
    "<li>\n",
    "Which functions are convex and which are non-convex?\n",
    " </li>\n",
    "  <li>\n",
    "What does each of the outputs of the minimize function mean?\n",
    " </li>\n",
    "  <li>\n",
    "If you have another analysis, you can explain here.\n",
    " </li>\n",
    " </ul>\n",
    "    <h4>answer:\n",
    "    </h4>\n",
    "    </font>\n",
    "</div>"
   ]
  },
  {
   "cell_type": "markdown",
   "metadata": {},
   "source": [
    "---\n",
    "\n",
    "\n",
    "**Theoretical:**\n",
    "<p>Using the basin-hopping method, non-convex functions can be optimized. In this section, do your own research about how this algorithm works and explain it briefly and explicitly.\n",
    "</p>\n"
   ]
  },
  {
   "cell_type": "markdown",
   "metadata": {},
   "source": [
    "Write your answer here:"
   ]
  },
  {
   "cell_type": "markdown",
   "metadata": {},
   "source": [
    "  In the previous section, you were given a number of functions and used two methods to check whether they were convex or not. In this section you should perform the following tasks using the basin-hopping method:\n",
    "  <ul>\n",
    "  <li>\n",
    "Get the minimum of the functions that you categorized as non-convex.\n",
    "  </li>\n",
    "  <li>\n",
    "Since there is no way for basin-hopping to realize the end of optimization, it is necessary to specify the number of steps to run the algorithm. Examine the effect of this issue on improving the answer and find the best number of steps to implement the algorithm using the function's graph.\n",
    "    </li>\n",
    "  <li>\n",
    "Specify the location of the minimum point obtained by this algorithm on the function graph (so that you can see whether ot not your implementation has been successful).\n",
    "    </li>\n",
    "  </ul>"
   ]
  },
  {
   "cell_type": "code",
   "execution_count": null,
   "metadata": {},
   "outputs": [],
   "source": [
    "# Find the minimum of non-convex functions by the basin-hopping method. like before, you can only use scipy for this."
   ]
  },
  {
   "cell_type": "code",
   "execution_count": null,
   "metadata": {},
   "outputs": [],
   "source": [
    "# Show the effect of the number of iterations on improving the answer."
   ]
  },
  {
   "cell_type": "markdown",
   "metadata": {},
   "source": [
    "# Q7:\n",
    "\n",
    "*Author: Bahar Asadi*\n",
    "\n",
    "**110 Points**\n",
    "\n",
    "---\n",
    "\n",
    "\n",
    "<h1>Linear Regression</h1>\n",
    "<p>\n",
    "In statistics, linear regression is a linear approach for modelling the relationship between a scalar response and one or more explanatory variables (also known as dependent and independent variables). In linear regression, the relationships are modeled using linear predictor functions whose unknown model parameters are estimated from the data. Such models are called linear models.\n",
    "</p>\n",
    "\n",
    "<h2>Simple Linear Regression (40 points) </h2>\n",
    "<p>\n",
    "In statistics, simple linear regression is a linear regression model with a single explanatory variable.[1][2][3][4][5] That is, it concerns two-dimensional sample points with one independent variable and one dependent variable (conventionally, the x and y coordinates in a Cartesian coordinate system) and finds a linear function (a non-vertical straight line) that, as accurately as possible, predicts the dependent variable values as a function of the independent variable.\n",
    "The formula for this method is:\n",
    "Y = β_0 + β_1 * X + ϵ\n",
    "Where\n",
    "Y is the predicted value of the dependent variable (y) for any given value of the independent variable (x).\n",
    "β_0 is the intercept, the predicted value of y when the x is 0.\n",
    "β_1 is the regression coefficient – how much we expect y to change as x increases.\n",
    "X  is the independent variable ( the variable we expect is influencing y).\n",
    "ϵ is the error of the estimate, or how much variation there is in our estimate of the regression coefficient.\n",
    "</br>\n",
    "Linear regression finds the line of best fit through your data by searching for the regression coefficient (β_1) that minimizes the total error (ϵ) of the model according to least square error.\n",
    "</p>\n",
    "\n"
   ]
  },
  {
   "cell_type": "markdown",
   "metadata": {},
   "source": [
    "<p>\n",
    "Now, in this part we would like to do simple linear regression for a set of points. To do so, you have to find Least Square error for parameters and find the best line that fits the dataset and plot it. You have two functions (find_coefficients and plot_result). You can change them if you want and you don't have to have exactly these functions.\n",
    "</p>"
   ]
  },
  {
   "cell_type": "code",
   "execution_count": null,
   "metadata": {},
   "outputs": [],
   "source": [
    "# libraries you may need\n",
    "%pip install matplotlib"
   ]
  },
  {
   "cell_type": "code",
   "execution_count": null,
   "metadata": {},
   "outputs": [],
   "source": [
    "# libraries you may need\n",
    "import numpy as np\n",
    "import matplotlib.pyplot as plt"
   ]
  },
  {
   "cell_type": "code",
   "execution_count": null,
   "metadata": {},
   "outputs": [],
   "source": [
    "def find_coefficients(feature_vector, response_vector):\n",
    "    # 25 points\n",
    "    pass\n",
    "\n",
    "def plot_result(feature_vector, response_vector, b_0, b_1):\n",
    "    # 10 points\n",
    "    pass"
   ]
  },
  {
   "cell_type": "code",
   "execution_count": null,
   "metadata": {},
   "outputs": [],
   "source": [
    "# data\n",
    "feature_vector = np.array([10, 12, 15, 16, 17, 18, 19, 24, 27, 30])\n",
    "response_vector = np.array([6, 2, 4, 4, 12, 5, 8, 15, 9, 9])\n",
    "  \n",
    "# finding coefficients\n",
    "betas = find_coefficients(feature_vector, response_vector)\n",
    "beta_0 = betas[0]\n",
    "beta_1 = betas[1]"
   ]
  },
  {
   "cell_type": "code",
   "execution_count": null,
   "metadata": {},
   "outputs": [],
   "source": [
    "beta_0"
   ]
  },
  {
   "cell_type": "code",
   "execution_count": null,
   "metadata": {},
   "outputs": [],
   "source": [
    "beta_1"
   ]
  },
  {
   "cell_type": "code",
   "execution_count": null,
   "metadata": {},
   "outputs": [],
   "source": [
    "plot_result(feature_vector, response_vector, beta_0, beta_1)"
   ]
  },
  {
   "cell_type": "markdown",
   "metadata": {},
   "source": [
    "<p>\n",
    "Now you know what linear regression is and how close it is to interpolation. In this part, please mention the differences between linear regression and interpolation.\n",
    "</p>\n",
    "<p>\n",
    "Your answer (5 points):\n",
    "</br>\n",
    "\n",
    "</p>"
   ]
  },
  {
   "cell_type": "markdown",
   "metadata": {},
   "source": [
    "<h1>Fourier Transform</h1>\n",
    "<p>\n",
    "A Fourier transform (FT) is a mathematical transform that decomposes functions depending on space or time into functions depending on spatial frequency or temporal frequency. An example application would be decomposing the waveform of a musical chord into terms of the intensity of its constituent pitches. The term Fourier transform refers to both the frequency domain representation and the mathematical operation that is associated with the frequency domain representation of a function of space or time.\n",
    "</p>\n",
    "\n"
   ]
  },
  {
   "cell_type": "markdown",
   "metadata": {},
   "source": [
    "<p>\n",
    "There are different classes of Fourier Transform. We want to talk about two classes: Discrete Fourier Transform and Fast Fourier Transform. For more information about Fourier Transform you can follow this link:\n",
    "\n",
    " [Fourier Tranform Lecture](https://www.le.ac.uk/users/dsgp1/LODZLECT/Lodz5.pdf)\n",
    " \n",
    "</p>"
   ]
  },
  {
   "cell_type": "markdown",
   "metadata": {},
   "source": [
    "<h2> Discrete Fourier Transform (DFT) (25 points)</h2>\n",
    "<p>\n",
    "In mathematics, the discrete Fourier transform (DFT) converts a finite sequence of equally-spaced samples of a function into a same-length sequence of equally-spaced samples of the discrete-time Fourier transform (DTFT), which is a complex-valued function of frequency. The interval at which the DTFT is sampled is the reciprocal of the duration of the input sequence.\n",
    "\n",
    "The formula for this transformation is:\n",
    "\n",
    "$X_{k} = \\sum_{n = 0}^{N - 1} x_{n} . e^{i 2\\pi k n /N} = \\sum_{n = 0}^{N - 1}x_{n}\\left [ cos(2\\pi k n/N) - i.sin(2\\pi k n/N)) \\right ]$\n",
    "\n",
    "where\n",
    "\n",
    "N = number of samples\n",
    "\n",
    "n = current sample\n",
    "\n",
    "k = current frequency, where k∈[0,N−1]\n",
    "\n",
    "xn = the sine value at sample n\n",
    "\n",
    "Xk = The DFT which includes information on both amplitude and phase\n",
    "</p>"
   ]
  },
  {
   "cell_type": "markdown",
   "metadata": {},
   "source": [
    "<p>\n",
    "Here, we have caculated sum of three trigonometric functions and plotted them as one function. Implement a function to calculate DFT for a function which is the summation of three trigonometric functions.\n",
    "</p>"
   ]
  },
  {
   "cell_type": "code",
   "execution_count": null,
   "metadata": {},
   "outputs": [],
   "source": [
    "plt.style.use('seaborn-poster')\n",
    "%matplotlib inline\n",
    "def plot_function(sampling_rate):\n",
    "# sampling rate\n",
    "    # sampling interval\n",
    "    interval = 1.0/sampling_rate\n",
    "    t = np.arange(0,1,interval)\n",
    "\n",
    "    freq = 2\n",
    "    x = 5*np.sin(2*np.pi*freq*t)\n",
    "\n",
    "    freq = 0.5\n",
    "    x += -1 * np.cos(2*np.pi*freq*t)\n",
    "\n",
    "    freq = 15  \n",
    "    x += 2.5* np.sin(2*np.pi*freq*t)\n",
    "\n",
    "    plt.figure(figsize = (8, 6))\n",
    "    plt.plot(t, x, 'g')\n",
    "    plt.ylabel('Amplitude')\n",
    "\n",
    "    plt.show()\n",
    "    return x"
   ]
  },
  {
   "cell_type": "code",
   "execution_count": null,
   "metadata": {},
   "outputs": [],
   "source": [
    "def DFT(x):\n",
    "    # 25 points\n",
    "    X = None\n",
    "    \"\"\"\n",
    "    Function to calculate the \n",
    "    DFT of a 1D real-valued signal x\n",
    "    \"\"\"\n",
    "    return X"
   ]
  },
  {
   "cell_type": "code",
   "execution_count": null,
   "metadata": {},
   "outputs": [],
   "source": [
    "def plot_DFT_or_FFT(X, sampling_rate, plot_type):\n",
    "    # calculate the frequency\n",
    "    N = len(X)\n",
    "    n = np.arange(N)\n",
    "    T = N/sampling_rate\n",
    "    freq = n/T \n",
    "\n",
    "    plt.figure(figsize = (8, 6))\n",
    "    plt.stem(freq, abs(X), 'b', \\\n",
    "         markerfmt=\" \", basefmt=\"-b\")\n",
    "    plt.xlabel('Freq (Hz)')\n",
    "    label = plot_type + 'Amplitude |X(freq)|'\n",
    "    plt.show()"
   ]
  },
  {
   "cell_type": "code",
   "execution_count": null,
   "metadata": {},
   "outputs": [],
   "source": [
    "sampling_rates = [4, 16, 64, 128, 256, 512]\n",
    "for sampling_rate in sampling_rates:\n",
    "    x = plot_function(sampling_rate)\n",
    "    X = DFT(x)\n",
    "    plot_DFT_or_FFT(X, sampling_rate, 'DFT')"
   ]
  },
  {
   "cell_type": "markdown",
   "metadata": {},
   "source": [
    "<h2> Fast Fourier Transform (45 points)</h2>\n",
    "<p>\n",
    "In order to get around the calculational expense of the standard form of the discrete Fourier transform (DFT), Cooley and Tukey (1965) figured out how to remove much of the redundancy in the equations above and came up with what is now known as the Fast Fourier Transform (FFT). The FFT is not a simple equation, but an algorithm which allows the Fourier transform of discrete data sets in $n\\log_{2}n$ steps, instead of $n^2$. Note that certain errors creep into the calculation because of discretizing the data, but they are found in all DFTs. The FFT is merely one particularly efficient method of calculating a DFT and introduces no additional errors. Also note that the data sampling rate must satisfy the Nyquist Theorem.\n",
    "</p>"
   ]
  },
  {
   "cell_type": "markdown",
   "metadata": {},
   "source": [
    "<p>\n",
    "One important thing that FFT algorithm uses is the symmetry in DFT formula. In this part use DFT formula and calculate\n",
    "\n",
    " $ X_{N+k} $ \n",
    " \n",
    " and prove symmetry in the formula. (Your answer \"can\" be code or simply a hand-written answer or a latex formula in the cell below. However, please mention how you answered (code, hand-written or latex) and upload your hand-written answers if you have any.)\n",
    "</p>"
   ]
  },
  {
   "cell_type": "code",
   "execution_count": null,
   "metadata": {},
   "outputs": [],
   "source": [
    "# Here is for your answer if you need (can be code, latex formula or a picture)\n",
    "# 10 points"
   ]
  },
  {
   "cell_type": "markdown",
   "metadata": {},
   "source": [
    "<p>\n",
    "Main idea of FFT is to classify numbers from 0 to N into two classes: odd and even. And after this classification, it calculatess the Fourier Transform for each class. In this part, use this idea and calculate\n",
    "\n",
    "\n",
    "$X_{k}$\n",
    "\n",
    "(Your answer \"can\" be code or simply a hand-written answer or latex formula in the cell below. However, please mention how you answered (code, hand-written or latex) and upload your hand-written answer if you have any.)\n",
    "</p>"
   ]
  },
  {
   "cell_type": "code",
   "execution_count": null,
   "metadata": {},
   "outputs": [],
   "source": [
    "# Here is for your answer if you need (can be code, latex formula or a picture)\n",
    "# 10 points"
   ]
  },
  {
   "cell_type": "markdown",
   "metadata": {},
   "source": [
    "<p>\n",
    "Now, use two previous parts (symmetry and classifying) and conclude that caculations in FFT are less than in DFT. (Compare the order of the two algorithms.) (Just explanation is enough for this part.)\n",
    "</p>"
   ]
  },
  {
   "cell_type": "markdown",
   "metadata": {},
   "source": [
    "<p>\n",
    "Your answer:\n",
    "</p>"
   ]
  },
  {
   "cell_type": "markdown",
   "metadata": {},
   "source": [
    "<p>\n",
    "In this part, implement the FFT function and check this function with the previous trigonometric function we had.\n",
    "</br>\n",
    "your implemention can be recursive or non-recursive but you cannot use the built-in function \"fft\" in numpy library.\n",
    "</p>"
   ]
  },
  {
   "cell_type": "code",
   "execution_count": null,
   "metadata": {},
   "outputs": [],
   "source": [
    "def FFT(x):\n",
    "    # 20 points\n",
    "    X = None\n",
    "    \"\"\"\n",
    "    A recursive or  non-recursive implementation of \n",
    "    the 1D Cooley-Tukey FFT, the \n",
    "    input should have a length of \n",
    "    power of 2. \n",
    "    \"\"\"\n",
    "    return X"
   ]
  },
  {
   "cell_type": "code",
   "execution_count": null,
   "metadata": {},
   "outputs": [],
   "source": [
    "for sampling_rate in sampling_rates:\n",
    "    x = plot_function(sampling_rate)\n",
    "    X = FFT(x)\n",
    "    plot_DFT_or_FFT(X, sampling_rate, 'FFT')"
   ]
  },
  {
   "cell_type": "markdown",
   "metadata": {},
   "source": [
    "<p>\n",
    "At last, compare average time of the two algorithms in practice.\n",
    "</p>"
   ]
  },
  {
   "cell_type": "code",
   "execution_count": null,
   "metadata": {},
   "outputs": [],
   "source": [
    "# 5 points\n",
    "# Your code"
   ]
  },
  {
   "cell_type": "markdown",
   "metadata": {},
   "source": [
    "# Q8:\n",
    "\n",
    "*Author: Kasra Amani*\n",
    "\n",
    "**25 Points**\n",
    "\n",
    "---\n",
    "\n",
    "\n",
    "**Theoretical:**<br>\n",
    "Up to this point, you have studied numerous different methods for solving Ordinary Differential Equations (ODEs), but completely ignored Partial Differential Equations (PDEs). These equations are widely used in Computational Fluid Dynamics (CFDs) and heat transfer simulations.\n",
    "Do your own research and explain in a few paragraphs a method which can solve a PDE using ODE solving methods that you have learned earlier.\n"
   ]
  },
  {
   "cell_type": "markdown",
   "metadata": {},
   "source": [
    "**Practical:**<br>\n",
    "Finite difference approximation of PDEs is a very useful method that is widely used in heat transfer and study of fluid mechanics. It is **strongly encouraged** for you to study [this pdf](https://www.lkouniv.ac.in/site/writereaddata/siteContent/202004032250572068siddharth_bhatt_engg_Numerical_Solution_of_Partial_Differential_Equations.pdf) for further info on numerically solving PDEs before proceeding with this problem.\n",
    "Solve the elliptic equation $$u_{xx}+u_{yy}=0$$ for the following square mesh with boundary values as shown in the figure down below.\n",
    "\n",
    "<img src=\"Resources/grid.jpg\" alt=\"grid\" width=\"300\"/>\n",
    "\n",
    "Notice that this question is identical to the one on page 8 of the pdf provided earlier and the main goal is for you to become familiar with the finite difference method. You must also implement your code in a way so that it would work for other boundary values as well and also you must use either Gauss-Seidal or Jacobi's method to improve the final values with decent accuracy."
   ]
  },
  {
   "cell_type": "code",
   "execution_count": null,
   "metadata": {},
   "outputs": [],
   "source": [
    "#your code goes here"
   ]
  }
 ],
 "metadata": {
  "colab": {
   "collapsed_sections": [],
   "name": "Numerical Methods Project Fall-2021.ipynb",
   "provenance": []
  },
  "kernelspec": {
   "display_name": "Python 3.10.0 64-bit",
   "language": "python",
   "name": "python3"
  },
  "language_info": {
   "codemirror_mode": {
    "name": "ipython",
    "version": 3
   },
   "file_extension": ".py",
   "mimetype": "text/x-python",
   "name": "python",
   "nbconvert_exporter": "python",
   "pygments_lexer": "ipython3",
   "version": "3.10.0"
  },
  "vscode": {
   "interpreter": {
    "hash": "0f680dda5bd30a10a0b0b200b76a9b2ad7af859660bb14808b2d5f2b064df943"
   }
  }
 },
 "nbformat": 4,
 "nbformat_minor": 1
}
